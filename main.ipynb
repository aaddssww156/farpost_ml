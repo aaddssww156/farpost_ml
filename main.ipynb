{
 "cells": [
  {
   "cell_type": "code",
   "execution_count": 1,
   "id": "a7c792e9-d55e-4c6b-85a7-ecf47f8b5a1d",
   "metadata": {
    "execution": {
     "iopub.execute_input": "2025-09-03T07:45:14.495952Z",
     "iopub.status.busy": "2025-09-03T07:45:14.495580Z",
     "iopub.status.idle": "2025-09-03T07:45:14.501451Z",
     "shell.execute_reply": "2025-09-03T07:45:14.500302Z",
     "shell.execute_reply.started": "2025-09-03T07:45:14.495930Z"
    }
   },
   "outputs": [
    {
     "name": "stdout",
     "output_type": "stream",
     "text": [
      "Hello world\n"
     ]
    }
   ],
   "source": [
    "print(\"Hello world\")"
   ]
  }
 ],
 "metadata": {
  "kernelspec": {
   "display_name": "Python 3 (ipykernel)",
   "language": "python",
   "name": "python3"
  },
  "language_info": {
   "codemirror_mode": {
    "name": "ipython",
    "version": 3
   },
   "file_extension": ".py",
   "mimetype": "text/x-python",
   "name": "python",
   "nbconvert_exporter": "python",
   "pygments_lexer": "ipython3",
   "version": "3.12.3"
  }
 },
 "nbformat": 4,
 "nbformat_minor": 5
}
